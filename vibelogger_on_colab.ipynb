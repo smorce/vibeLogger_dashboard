{
  "cells": [
    {
      "cell_type": "code",
      "execution_count": 1,
      "metadata": {
        "colab": {
          "base_uri": "https://localhost:8080/"
        },
        "id": "UOuKqPAUkT1t",
        "outputId": "da59481d-c13c-4137-8208-691cf1dd3f13"
      },
      "outputs": [
        {
          "name": "stdout",
          "output_type": "stream",
          "text": [
            "Collecting vibelogger\n",
            "  Downloading vibelogger-0.1.0-py3-none-any.whl.metadata (9.6 kB)\n",
            "Downloading vibelogger-0.1.0-py3-none-any.whl (17 kB)\n",
            "Installing collected packages: vibelogger\n",
            "Successfully installed vibelogger-0.1.0\n"
          ]
        }
      ],
      "source": [
        "!pip install vibelogger"
      ]
    },
    {
      "cell_type": "code",
      "execution_count": 2,
      "metadata": {
        "colab": {
          "base_uri": "https://localhost:8080/",
          "height": 250
        },
        "id": "64Kz5VXXkT4N",
        "outputId": "7795cb86-2b36-4d15-ec6f-6e998ff530f7"
      },
      "outputs": [
        {
          "data": {
            "text/html": [
              "<pre style=\"white-space:pre;overflow-x:auto;line-height:normal;font-family:Menlo,'DejaVu Sans Mono',consolas,'Courier New',monospace\">Found and using actual <span style=\"color: #008000; text-decoration-color: #008000\">'vibelogger'</span> package.\n",
              "</pre>\n"
            ],
            "text/plain": [
              "Found and using actual \u001b[32m'vibelogger'\u001b[0m package.\n"
            ]
          },
          "metadata": {},
          "output_type": "display_data"
        },
        {
          "data": {
            "text/html": [
              "<pre style=\"white-space:pre;overflow-x:auto;line-height:normal;font-family:Menlo,'DejaVu Sans Mono',consolas,'Courier New',monospace\">\n",
              "--- Generating <span style=\"color: #008080; text-decoration-color: #008080; font-weight: bold\">5</span> log entries ---\n",
              "</pre>\n"
            ],
            "text/plain": [
              "\n",
              "--- Generating \u001b[1;36m5\u001b[0m log entries ---\n"
            ]
          },
          "metadata": {},
          "output_type": "display_data"
        },
        {
          "data": {
            "text/html": [
              "<pre style=\"white-space:pre;overflow-x:auto;line-height:normal;font-family:Menlo,'DejaVu Sans Mono',consolas,'Courier New',monospace\">\n",
              "<span style=\"font-weight: bold\">[</span>Log <span style=\"color: #008080; text-decoration-color: #008080; font-weight: bold\">1</span>/<span style=\"color: #008080; text-decoration-color: #008080; font-weight: bold\">5</span><span style=\"font-weight: bold\">]</span>\n",
              "</pre>\n"
            ],
            "text/plain": [
              "\n",
              "\u001b[1m[\u001b[0mLog \u001b[1;36m1\u001b[0m/\u001b[1;36m5\u001b[0m\u001b[1m]\u001b[0m\n"
            ]
          },
          "metadata": {},
          "output_type": "display_data"
        },
        {
          "data": {
            "text/html": [
              "<pre style=\"white-space:pre;overflow-x:auto;line-height:normal;font-family:Menlo,'DejaVu Sans Mono',consolas,'Courier New',monospace\">log_level = WARNING\n",
              "</pre>\n"
            ],
            "text/plain": [
              "log_level = WARNING\n"
            ]
          },
          "metadata": {},
          "output_type": "display_data"
        },
        {
          "data": {
            "text/html": [
              "<pre style=\"white-space:pre;overflow-x:auto;line-height:normal;font-family:Menlo,'DejaVu Sans Mono',consolas,'Courier New',monospace\">\n",
              "<span style=\"font-weight: bold\">[</span>Log <span style=\"color: #008080; text-decoration-color: #008080; font-weight: bold\">2</span>/<span style=\"color: #008080; text-decoration-color: #008080; font-weight: bold\">5</span><span style=\"font-weight: bold\">]</span>\n",
              "</pre>\n"
            ],
            "text/plain": [
              "\n",
              "\u001b[1m[\u001b[0mLog \u001b[1;36m2\u001b[0m/\u001b[1;36m5\u001b[0m\u001b[1m]\u001b[0m\n"
            ]
          },
          "metadata": {},
          "output_type": "display_data"
        },
        {
          "data": {
            "text/html": [
              "<pre style=\"white-space:pre;overflow-x:auto;line-height:normal;font-family:Menlo,'DejaVu Sans Mono',consolas,'Courier New',monospace\">log_level = SUCCESS\n",
              "</pre>\n"
            ],
            "text/plain": [
              "log_level = SUCCESS\n"
            ]
          },
          "metadata": {},
          "output_type": "display_data"
        },
        {
          "data": {
            "text/html": [
              "<pre style=\"white-space:pre;overflow-x:auto;line-height:normal;font-family:Menlo,'DejaVu Sans Mono',consolas,'Courier New',monospace\">\n",
              "<span style=\"font-weight: bold\">[</span>Log <span style=\"color: #008080; text-decoration-color: #008080; font-weight: bold\">3</span>/<span style=\"color: #008080; text-decoration-color: #008080; font-weight: bold\">5</span><span style=\"font-weight: bold\">]</span>\n",
              "</pre>\n"
            ],
            "text/plain": [
              "\n",
              "\u001b[1m[\u001b[0mLog \u001b[1;36m3\u001b[0m/\u001b[1;36m5\u001b[0m\u001b[1m]\u001b[0m\n"
            ]
          },
          "metadata": {},
          "output_type": "display_data"
        },
        {
          "data": {
            "text/html": [
              "<pre style=\"white-space:pre;overflow-x:auto;line-height:normal;font-family:Menlo,'DejaVu Sans Mono',consolas,'Courier New',monospace\">log_level = INFO\n",
              "</pre>\n"
            ],
            "text/plain": [
              "log_level = INFO\n"
            ]
          },
          "metadata": {},
          "output_type": "display_data"
        },
        {
          "data": {
            "text/html": [
              "<pre style=\"white-space:pre;overflow-x:auto;line-height:normal;font-family:Menlo,'DejaVu Sans Mono',consolas,'Courier New',monospace\">\n",
              "<span style=\"font-weight: bold\">[</span>Log <span style=\"color: #008080; text-decoration-color: #008080; font-weight: bold\">4</span>/<span style=\"color: #008080; text-decoration-color: #008080; font-weight: bold\">5</span><span style=\"font-weight: bold\">]</span>\n",
              "</pre>\n"
            ],
            "text/plain": [
              "\n",
              "\u001b[1m[\u001b[0mLog \u001b[1;36m4\u001b[0m/\u001b[1;36m5\u001b[0m\u001b[1m]\u001b[0m\n"
            ]
          },
          "metadata": {},
          "output_type": "display_data"
        },
        {
          "data": {
            "text/html": [
              "<pre style=\"white-space:pre;overflow-x:auto;line-height:normal;font-family:Menlo,'DejaVu Sans Mono',consolas,'Courier New',monospace\">log_level = SUCCESS\n",
              "</pre>\n"
            ],
            "text/plain": [
              "log_level = SUCCESS\n"
            ]
          },
          "metadata": {},
          "output_type": "display_data"
        },
        {
          "data": {
            "text/html": [
              "<pre style=\"white-space:pre;overflow-x:auto;line-height:normal;font-family:Menlo,'DejaVu Sans Mono',consolas,'Courier New',monospace\">\n",
              "<span style=\"font-weight: bold\">[</span>Log <span style=\"color: #008080; text-decoration-color: #008080; font-weight: bold\">5</span>/<span style=\"color: #008080; text-decoration-color: #008080; font-weight: bold\">5</span><span style=\"font-weight: bold\">]</span>\n",
              "</pre>\n"
            ],
            "text/plain": [
              "\n",
              "\u001b[1m[\u001b[0mLog \u001b[1;36m5\u001b[0m/\u001b[1;36m5\u001b[0m\u001b[1m]\u001b[0m\n"
            ]
          },
          "metadata": {},
          "output_type": "display_data"
        },
        {
          "data": {
            "text/html": [
              "<pre style=\"white-space:pre;overflow-x:auto;line-height:normal;font-family:Menlo,'DejaVu Sans Mono',consolas,'Courier New',monospace\">log_level = INFO\n",
              "</pre>\n"
            ],
            "text/plain": [
              "log_level = INFO\n"
            ]
          },
          "metadata": {},
          "output_type": "display_data"
        },
        {
          "data": {
            "text/html": [
              "<pre style=\"white-space:pre;overflow-x:auto;line-height:normal;font-family:Menlo,'DejaVu Sans Mono',consolas,'Courier New',monospace\">\n",
              "--- Log generation test finished. ---\n",
              "</pre>\n"
            ],
            "text/plain": [
              "\n",
              "--- Log generation test finished. ---\n"
            ]
          },
          "metadata": {},
          "output_type": "display_data"
        },
        {
          "data": {
            "text/html": [
              "<pre style=\"white-space:pre;overflow-x:auto;line-height:normal;font-family:Menlo,'DejaVu Sans Mono',consolas,'Courier New',monospace\">All generated logs are saved\n",
              "</pre>\n"
            ],
            "text/plain": [
              "All generated logs are saved\n"
            ]
          },
          "metadata": {},
          "output_type": "display_data"
        }
      ],
      "source": [
        "# 必要なライブラリをインポート\n",
        "import asyncio\n",
        "import json\n",
        "import random\n",
        "from pathlib import Path\n",
        "from rich import print\n",
        "\n",
        "# -------------------------------------------------------------------\n",
        "# VibeCoding Logger (vibelogger) のモック\n",
        "# 元のコードに含まれていたものをそのまま使用します。\n",
        "# もし `pip install vibelogger` でインストールできる場合は、この部分は不要です。\n",
        "# -------------------------------------------------------------------\n",
        "try:\n",
        "    # 実際のパッケージがあればそれを使用\n",
        "    from vibelogger import create_file_logger\n",
        "    print(\"Found and using actual 'vibelogger' package.\")\n",
        "except ImportError:\n",
        "    # パッケージがない場合は、以下のモック（模擬）クラスを使用\n",
        "    print(\"Could not find 'vibelogger' package. Using a mock logger.\")\n",
        "    class MockLogger:\n",
        "        def __init__(self, name, log_dir):\n",
        "            self.name = name\n",
        "            self.log_file = Path(log_dir) / f\"{name}.log\"\n",
        "            print(f\"MockLogger initialized. Logs will be written to: {self.log_file}\")\n",
        "\n",
        "        def _log(self, level, operation=None, message=None, context=None, **kwargs):\n",
        "            import datetime\n",
        "            log_entry = {\n",
        "                \"timestamp\": datetime.datetime.now(datetime.timezone.utc).isoformat(),\n",
        "                \"level\": level,\n",
        "                \"operation\": operation,\n",
        "                \"message\": message,\n",
        "                \"context\": context or {},\n",
        "                **kwargs\n",
        "            }\n",
        "            # ログファイルに追記\n",
        "            with open(self.log_file, \"a\", encoding=\"utf-8\") as f:\n",
        "                f.write(json.dumps(log_entry) + \"\\n\")\n",
        "\n",
        "            # コンソールにも出力\n",
        "            print(json.dumps(log_entry, indent=2))\n",
        "            return log_entry\n",
        "\n",
        "        def info(self, operation=None, message=None, context=None, human_note=None, **kwargs):\n",
        "            return self._log(\"INFO\", operation=operation, message=message, context=context, human_note=human_note, **kwargs)\n",
        "\n",
        "        def warning(self, operation=None, message=None, context=None, human_note=None, **kwargs):\n",
        "            return self._log(\"WARNING\", operation=operation, message=message, context=context, human_note=human_note, **kwargs)\n",
        "\n",
        "        def error(self, operation=None, message=None, context=None, human_note=None, **kwargs):\n",
        "            return self._log(\"ERROR\", operation=operation, message=message, context=context, human_note=human_note, **kwargs)\n",
        "\n",
        "        def debug(self, operation=None, message=None, context=None, human_note=None, **kwargs):\n",
        "            return self._log(\"DEBUG\", operation=operation, message=message, context=context, human_note=human_note, **kwargs)\n",
        "\n",
        "        def success(self, operation=None, message=None, context=None, human_note=None, **kwargs):\n",
        "            return self._log(\"SUCCESS\", operation=operation, message=message, context=context, human_note=human_note, **kwargs)\n",
        "\n",
        "    def create_file_logger(name):\n",
        "      # Colabの作業ディレクトリを基準とします\n",
        "        BASE_DIR = Path.cwd()\n",
        "        OUTPUTS_DIR = BASE_DIR / \"outputs\"\n",
        "        LOG_DIR = OUTPUTS_DIR / f\"{name}_logs\"\n",
        "        LOG_DIR.mkdir(parents=True, exist_ok=True) # 親ディレクトリもまとめて作成\n",
        "        print(f\"Base directory set to: {BASE_DIR}\")\n",
        "        print(f\"Log directory set to: {LOG_DIR}\")\n",
        "        return MockLogger(name, LOG_DIR)\n",
        "\n",
        "\n",
        "# -------------------------------------------------------------------\n",
        "# Loggerのセットアップ\n",
        "# -------------------------------------------------------------------\n",
        "vibe_logger = create_file_logger(\"colab_test\")\n",
        "\n",
        "# -------------------------------------------------------------------\n",
        "# ログ生成ロジック (テスト用に変更)\n",
        "# -------------------------------------------------------------------\n",
        "async def generate_logs_for_test(num_logs: int = 10):\n",
        "    \"\"\"指定された回数だけログを生成し、コンソールに出力します。\"\"\"\n",
        "    print(f\"\\n--- Generating {num_logs} log entries ---\")\n",
        "\n",
        "    operations = [\"user_login\", \"db_query\", \"file_upload\", \"api_call\", \"data_processing\"]\n",
        "    users = [\"Alice\", \"Bob\", \"Charlie\", \"David\"]\n",
        "\n",
        "    for i in range(num_logs):\n",
        "        # ログ生成の間隔をランダムに設定\n",
        "        await asyncio.sleep(random.uniform(0.2, 1.0))\n",
        "\n",
        "        log_level = random.choices([\"INFO\", \"WARNING\", \"ERROR\", \"SUCCESS\", \"DEBUG\"], weights=[5, 2, 1, 3, 2], k=1)[0]\n",
        "        operation = random.choice(operations)\n",
        "        user = random.choice(users)\n",
        "\n",
        "        print(f\"\\n[Log {i+1}/{num_logs}]\")\n",
        "        print(f\"log_level = {log_level}\")\n",
        "\n",
        "        if log_level == \"INFO\":\n",
        "            vibe_logger.info(\n",
        "                operation=operation,\n",
        "                message=f\"{operation} started\",\n",
        "                context={\"user\": user, \"status\": \"started\"},\n",
        "                human_note=f\"AI: Monitor {operation} completion for user {user}\"\n",
        "            )\n",
        "        elif log_level == \"WARNING\":\n",
        "            vibe_logger.warning(\n",
        "                operation=operation,\n",
        "                message=f\"High latency detected in {operation}\",\n",
        "                context={\"user\": user, \"latency_ms\": random.randint(500, 1000)},\n",
        "                human_note=f\"AI: Investigate performance bottlenecks in {operation} - consider caching or optimization\"\n",
        "            )\n",
        "        elif log_level == \"ERROR\":\n",
        "            vibe_logger.error(\n",
        "                operation=operation,\n",
        "                message=f\"Failed to complete {operation}\",\n",
        "                context={\"user\": user, \"error_code\": random.randint(500, 504)},\n",
        "                human_note=f\"AI: Analyze {operation} failure patterns and suggest error handling improvements\"\n",
        "            )\n",
        "        elif log_level == \"SUCCESS\":\n",
        "            vibe_logger.info(\n",
        "                operation=operation,\n",
        "                message=f\"{operation} completed successfully\",\n",
        "                context={\"user\": user, \"duration_ms\": random.randint(100, 400)},\n",
        "                human_note=f\"AI: Track {operation} performance metrics and identify optimization opportunities\"\n",
        "            )\n",
        "        elif log_level == \"DEBUG\":\n",
        "            vibe_logger.debug(\n",
        "                operation=operation,\n",
        "                message=f\"Debugging {operation}\",\n",
        "                context={\"user\": user, \"details\": {\"step\": random.randint(1, 5)}},\n",
        "                human_note=f\"AI: Trace execution flow for {operation} to identify potential issues\"\n",
        "            )\n",
        "\n",
        "# -------------------------------------------------------------------\n",
        "# メイン実行ブロック\n",
        "# -------------------------------------------------------------------\n",
        "async def main():\n",
        "    \"\"\"テストを実行するためのメイン非同期関数\"\"\"\n",
        "    # 生成したいログの数を指定してテスト関数を呼び出す\n",
        "    await generate_logs_for_test(num_logs=5)\n",
        "    print(\"\\n--- Log generation test finished. ---\")\n",
        "    print(f\"All generated logs are saved\")\n",
        "\n",
        "# Colab/Jupyter環境で非同期コードを実行\n",
        "# nest_asyncioは、既に実行中のイベントループで再度asyncio.run()を呼び出すエラーを防ぎます。\n",
        "import nest_asyncio\n",
        "nest_asyncio.apply()\n",
        "\n",
        "# テストを実行\n",
        "asyncio.run(main())"
      ]
    },
    {
      "cell_type": "code",
      "execution_count": null,
      "metadata": {
        "id": "ImuJB4JbnyVt"
      },
      "outputs": [],
      "source": []
    }
  ],
  "metadata": {
    "colab": {
      "name": "scratchpad",
      "provenance": []
    },
    "kernelspec": {
      "display_name": "Python 3",
      "name": "python3"
    }
  },
  "nbformat": 4,
  "nbformat_minor": 0
}
